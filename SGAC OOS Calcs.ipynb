{
 "cells": [
  {
   "cell_type": "markdown",
   "metadata": {},
   "source": [
    "# OOS"
   ]
  },
  {
   "cell_type": "markdown",
   "metadata": {},
   "source": [
    "Mass propellant calculations for the mission consisting of:\n",
    "1. Disposal of a GEO communication satellite (serviceable satellite) from GEO to Graveyard using a servicer space tug\n",
    "2. Transfer of a defunct (but functional otherwise) communiction satellite in graveyard orbit back in GEO\n",
    "3. Providing station keeping and attitude control for this satellite to extend its service life"
   ]
  },
  {
   "cell_type": "code",
   "execution_count": 7,
   "metadata": {},
   "outputs": [],
   "source": [
    "import math \n",
    "import numpy as np\n",
    "import pandas as pd\n",
    "import matplotlib.pyplot as plt\n",
    "from pandas import DataFrame"
   ]
  },
  {
   "cell_type": "markdown",
   "metadata": {},
   "source": [
    "GEO to Graveyard (disposal of a defunct satellite into graveyard orbit):"
   ]
  },
  {
   "cell_type": "code",
   "execution_count": 19,
   "metadata": {},
   "outputs": [
    {
     "name": "stdout",
     "output_type": "stream",
     "text": [
      "Enter the radius of initial orbit in km: 36000\n",
      "Enter the radius of final destination orbit in km: 36300\n"
     ]
    }
   ],
   "source": [
    "mu = 398600.442 # Standard Gravitational Parameter of Earth\n",
    "r_E = 6378 # Earth radius\n",
    "z_a = int(input('Enter the radius of initial orbit in km: ')) # 2000 for circular LEO\n",
    "r_a = r_E + z_a\n",
    "v_A = math.sqrt(mu / r_a) # Initial orbit constant orbital speed: \n",
    "z_b = int(input('Enter the radius of final destination orbit in km: ')) # 35786 for circular GEO\n",
    "r_b = r_E + z_b\n",
    "e_2 = (r_b - r_a)/(r_b + r_a) \n",
    "h_2 = math.sqrt(r_a * mu * (1 + e_2 * math.cos(0)))\n",
    "v_Atransf = h_2 / r_a\n",
    "delta_v_A = v_Atransf - v_A # required forward velocity increment at A: \n",
    "v_B_2 = h_2 / r_b # Find the speed at B on transfer orbit\n",
    "v_B_3 = math.sqrt(mu / r_b) # Destination orbit constant orbital speed\n",
    "delta_v_B = v_B_3 - v_B_2 # Thus, the delta-v requirement at B to climb from orbit 2 to orbit 3 is\n",
    "delta_v_total = delta_v_A + delta_v_B\n",
    "delta_v_total_m_s = round(abs(delta_v_total) * 1000, 2)\n",
    "delta_v_total_electric = v_A - v_B_3 # Calculatign delta V for transfer using electric propulsion: \n",
    "delta_v_total_m_s_electric = round(abs(delta_v_total_electric) * 1000, 2)"
   ]
  },
  {
   "cell_type": "code",
   "execution_count": 20,
   "metadata": {},
   "outputs": [
    {
     "name": "stdout",
     "output_type": "stream",
     "text": [
      "Total delta-V requirement for the Hohmann transfer between 36000 km and 36300 km circular orbits:\n",
      "10.8 m/s using chemical propulsion system onboard the servicer s/c.\n",
      "10.8 m/s using electric propulsion system onboard the servicer s/c.\n"
     ]
    }
   ],
   "source": [
    "print('Total delta-V requirement for the Hohmann transfer between {} km and {} km circular orbits:'.format(z_a, z_b))\n",
    "print('{} m/s using chemical propulsion system onboard the servicer s/c.'.format(delta_v_total_m_s ))\n",
    "print('{} m/s using electric propulsion system onboard the servicer s/c.'.format(delta_v_total_m_s_electric ))"
   ]
  },
  {
   "cell_type": "code",
   "execution_count": 21,
   "metadata": {},
   "outputs": [
    {
     "name": "stdout",
     "output_type": "stream",
     "text": [
      "Enter a range of serviceable satellite masses in kg (e.g. 1 5 10 15): 500 1000 1500 2000 2500\n"
     ]
    }
   ],
   "source": [
    "mass_satellite = [int(x) for x in input('Enter a range of serviceable satellite masses in kg (e.g. 1 5 10 15): ').split()]"
   ]
  },
  {
   "cell_type": "code",
   "execution_count": 22,
   "metadata": {},
   "outputs": [
    {
     "name": "stdout",
     "output_type": "stream",
     "text": [
      "Enter the servicer satellite mass in kg, excluding propellant: 150\n"
     ]
    }
   ],
   "source": [
    "mass_servicer = int(input('Enter the servicer satellite mass in kg, excluding propellant: '))"
   ]
  },
  {
   "cell_type": "code",
   "execution_count": 23,
   "metadata": {},
   "outputs": [
    {
     "name": "stdout",
     "output_type": "stream",
     "text": [
      "Enter the chemical propulsion system specific impulse, Isp, in seconds: 300\n",
      "Enter the electric propulsion system specific impulse, Isp, in seconds: 3000\n"
     ]
    }
   ],
   "source": [
    "Isp_chemical = int(input('Enter the chemical propulsion system specific impulse, Isp, in seconds: '))\n",
    "Isp_electric = int(input('Enter the electric propulsion system specific impulse, Isp, in seconds: '))"
   ]
  },
  {
   "cell_type": "code",
   "execution_count": 24,
   "metadata": {},
   "outputs": [
    {
     "data": {
      "image/png": "[encoded data removed]",
      "text/plain": [
       "<Figure size 432x288 with 1 Axes>"
      ]
     },
     "metadata": {
      "needs_background": "light"
     },
     "output_type": "display_data"
    },
    {
     "name": "stdout",
     "output_type": "stream",
     "text": [
      "\n",
      "        0        1        2        3        4\n",
      "0  500.00  1000.00  1500.00  2000.00  2500.00\n",
      "1    2.38     4.21     6.04     7.88     9.71\n",
      "2    0.24     0.42     0.61     0.79     0.97\n"
     ]
    }
   ],
   "source": [
    "mass_propellant_chemical = []\n",
    "mass_propellant_electric = []\n",
    "for i in mass_satellite:\n",
    "    mass_propellant_chemical.append(round((i + mass_servicer) * (1-math.exp((-(delta_v_total_m_s/1000)/(Isp_chemical * 9.81 * 0.001)))), 2))\n",
    "    mass_propellant_electric.append(round((i + mass_servicer) * (1-math.exp((-(delta_v_total_m_s_electric/1000)/(Isp_electric * 9.81 * 0.001)))), 2))\n",
    "table= []\n",
    "table.append(mass_satellite)\n",
    "table.append(mass_propellant_chemical)\n",
    "table.append(mass_propellant_electric)\n",
    "module_raw= np.array(table)\n",
    "module= module_raw.reshape(3, -1)\n",
    "plt.title(\"Title\") \n",
    "plt.xlabel(\"Serviceable satellite mass, kg\") \n",
    "plt.ylabel(\"Propellant required for the servicer s/c, kg\") \n",
    "plt.plot(mass_satellite, mass_propellant_chemical, 'bo', label = 'chemical')\n",
    "plt.plot(mass_satellite, mass_propellant_electric, 'go', label = 'electric')\n",
    "plt.legend(loc=\"center right\")\n",
    "plt.show()\n",
    "print()\n",
    "df = DataFrame(module_raw)\n",
    "print (df)"
   ]
  },
  {
   "cell_type": "markdown",
   "metadata": {},
   "source": [
    "Second component of the mission (reusability component):"
   ]
  },
  {
   "cell_type": "code",
   "execution_count": 36,
   "metadata": {},
   "outputs": [
    {
     "name": "stdout",
     "output_type": "stream",
     "text": [
      "Enter a range of serviceable satellite masses in kg (e.g. 1 5 10 15): 3500 4000 3000\n",
      "\n",
      "To transfer another satellite back into GEO, from 36300 km to 36000 km, the total requirements will be as such:\n",
      "\n",
      "delta V:\n",
      "21.6 m/s using chemical propulsion system onboard the servicer s/c.\n",
      "21.6 m/s using electric propulsion system onboard the servicer s/c.\n",
      "\n",
      "Propellant mass req-s:\n"
     ]
    },
    {
     "data": {
      "image/png": "[encoded data removed]",
      "text/plain": [
       "<Figure size 432x288 with 1 Axes>"
      ]
     },
     "metadata": {
      "needs_background": "light"
     },
     "output_type": "display_data"
    },
    {
     "name": "stdout",
     "output_type": "stream",
     "text": [
      "\n",
      "         0        1        2\n",
      "0  3500.00  4000.00  3000.00\n",
      "1    26.69    30.35    23.03\n",
      "2     2.68     3.04     2.31\n"
     ]
    }
   ],
   "source": [
    "# Graveard to GEO (carrying a disposed fuel-depleted satellite back to GEO to extend its life)\n",
    "mass_satellite_2 = [int(x) for x in input('Enter a range of serviceable satellite masses in kg (e.g. 1 5 10 15): ').split()]\n",
    "print()\n",
    "print('To transfer another satellite back into GEO, from {} km to {} km, the total requirements will be as such:'.format(z_b, z_a))\n",
    "print()\n",
    "print('delta V:')\n",
    "print('{} m/s using chemical propulsion system onboard the servicer s/c.'.format(delta_v_total_m_s * 2 ))\n",
    "print('{} m/s using electric propulsion system onboard the servicer s/c.'.format(delta_v_total_m_s_electric * 2))\n",
    "print()\n",
    "print('Propellant mass req-s:')\n",
    "mass_propellant_chemical_2 = []\n",
    "mass_propellant_electric_2 = []\n",
    "for i in mass_satellite_2:\n",
    "    mass_propellant_chemical_2.append(round((i + mass_servicer) * (1-math.exp((-(delta_v_total_m_s * 2 /1000)/(Isp_chemical * 9.81 * 0.001)))), 2))\n",
    "    mass_propellant_electric_2.append(round((i + mass_servicer) * (1-math.exp((-(delta_v_total_m_s_electric * 2 /1000)/(Isp_electric * 9.81 * 0.001)))), 2))\n",
    "table= []\n",
    "table.append(mass_satellite_2)\n",
    "table.append(mass_propellant_chemical_2)\n",
    "table.append(mass_propellant_electric_2)\n",
    "module_raw= np.array(table)\n",
    "module= module_raw.reshape(3, -1)\n",
    "plt.title(\"Title\") \n",
    "plt.xlabel(\"Serviceable satellite mass, kg\") \n",
    "plt.ylabel(\"Propellant required for the servicer s/c, kg\") \n",
    "plt.plot(mass_satellite_2, mass_propellant_chemical_2, 'bo', label = 'chemical')\n",
    "plt.plot(mass_satellite_2, mass_propellant_electric_2, 'go', label = 'electric')\n",
    "plt.legend(loc=\"center right\")\n",
    "plt.show()\n",
    "print()\n",
    "df = DataFrame(module_raw)\n",
    "print (df)\n"
   ]
  },
  {
   "cell_type": "markdown",
   "metadata": {},
   "source": [
    "To be completed:\n",
    "Third component of the mission - providing attitude control and station keeping for this satellite to extend its life:"
   ]
  },
  {
   "cell_type": "code",
   "execution_count": null,
   "metadata": {},
   "outputs": [],
   "source": []
  }
 ],
 "metadata": {
  "kernelspec": {
   "display_name": "Python 3",
   "language": "python",
   "name": "python3"
  },
  "language_info": {
   "codemirror_mode": {
    "name": "ipython",
    "version": 3
   },
   "file_extension": ".py",
   "mimetype": "text/x-python",
   "name": "python",
   "nbconvert_exporter": "python",
   "pygments_lexer": "ipython3",
   "version": "3.8.3"
  }
 },
 "nbformat": 4,
 "nbformat_minor": 4
}
